{
 "cells": [
  {
   "cell_type": "code",
   "execution_count": 9,
   "metadata": {},
   "outputs": [
    {
     "name": "stdin",
     "output_type": "stream",
     "text": [
      " past yourreddit client_id here  D8szAQzSukEngw\n",
      " past yourreddit client_id here client_secret  CRODJrVcHZB9zOvbpO1UuJigoLA\n",
      " past yourreddit client_id here user_name  shmuelampfo\n"
     ]
    },
    {
     "name": "stdout",
     "output_type": "stream",
     "text": [
      "What was the cringiest thing you did in your first relationship?\n",
      "offendedbywords\n",
      "What’s the dumbest thing you’ve heard someone say that made you wonder how they function on a day to day basis?\n",
      "ryansalittlebitch\n",
      "What is something that HAS aged well?\n",
      "KAFKA-SLAYER-99\n",
      "What have we all conveniently forgotten about?\n",
      "TheCreatorLovesYou\n",
      "What made you laugh the hardest in your entire life?\n",
      "GarlicsPepper\n",
      "What is the worst thing to cheap out on?\n",
      "Captain_aimpunch\n",
      "What's an experience you don't ever want to go through again?\n",
      "happyguy604\n",
      "Men of reddit, what do women do that they think is sexy, but actually isn't?\n",
      "mrbadassmotherfucker\n",
      "What is the most physically painful thing you've ever gone through?\n",
      "CalamityFoxx\n",
      "What benefits did you notice after losing weight?\n",
      "kyle768\n"
     ]
    }
   ],
   "source": [
    "# set up here\n",
    "import praw \n",
    "import pandas as pd\n",
    "import datetime as dt\n",
    "\n",
    "#df = pd.read_csv(\"../\")\n",
    "\n",
    "#takeUser details\n",
    "CLIENT_ID = input(\" past yourreddit client_id here \")\n",
    "CLIENT_SECRET = input(\" past yourreddit client_id here client_secret \")\n",
    "YOUR_NAME = input(\" past yourreddit client_id here user_name \")\n",
    "USER_AGENT = f\"python:{CLIENT_ID}:0.1 (by /u/{YOUR_NAME})\"\n",
    "\n",
    "#----------------------\n",
    "#CLIENT_ID = \"CLIENT_ID_HERE\"\n",
    "#CLIENT_SECRET = \"CLIENT_SECRET_HERE\"\n",
    "#USER_AGENT = f\"python:{CLIENT_ID}:0.1 (by /u/YOUR_NAME)\"\n",
    "\n",
    "#access the readit api\n",
    "api = praw.Reddit(\n",
    "    client_id = CLIENT_ID,\n",
    "    client_secret = CLIENT_SECRET,\n",
    "    user_agent = USER_AGENT\n",
    ")\n",
    "\n",
    "# To test the api, see if this returns 'True'\n",
    "api.read_only\n",
    "\n",
    "#readit application\n",
    "\n",
    "submissions = api.subreddit('askReddit').hot(limit = 10)\n",
    "submissions\n",
    "\n",
    "\n",
    "for sub in submissions:\n",
    "    print(sub.title)\n",
    "    print(sub.author.name)\n",
    "#access code and info\n",
    "#.json\n",
    "#praw library\n",
    "#Reddit Plots \n",
    "\n",
    "\n",
    "\n"
   ]
  },
  {
   "cell_type": "code",
   "execution_count": null,
   "metadata": {},
   "outputs": [],
   "source": []
  }
 ],
 "metadata": {
  "kernelspec": {
   "display_name": "Python 3",
   "language": "python",
   "name": "python3"
  },
  "language_info": {
   "codemirror_mode": {
    "name": "ipython",
    "version": 3
   },
   "file_extension": ".py",
   "mimetype": "text/x-python",
   "name": "python",
   "nbconvert_exporter": "python",
   "pygments_lexer": "ipython3",
   "version": "3.7.0"
  }
 },
 "nbformat": 4,
 "nbformat_minor": 2
}
