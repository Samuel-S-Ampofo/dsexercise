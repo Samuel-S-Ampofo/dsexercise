{
 "cells": [
  {
   "cell_type": "code",
   "execution_count": 1,
   "metadata": {},
   "outputs": [
    {
     "ename": "ModuleNotFoundError",
     "evalue": "No module named 'praw'",
     "output_type": "error",
     "traceback": [
      "\u001b[0;31m---------------------------------------------------------------------------\u001b[0m",
      "\u001b[0;31mModuleNotFoundError\u001b[0m                       Traceback (most recent call last)",
      "\u001b[0;32m<ipython-input-1-4d91a8349963>\u001b[0m in \u001b[0;36m<module>\u001b[0;34m()\u001b[0m\n\u001b[1;32m      1\u001b[0m \u001b[0;31m# set up here\u001b[0m\u001b[0;34m\u001b[0m\u001b[0;34m\u001b[0m\u001b[0m\n\u001b[0;32m----> 2\u001b[0;31m \u001b[0;32mimport\u001b[0m \u001b[0mpraw\u001b[0m\u001b[0;34m\u001b[0m\u001b[0m\n\u001b[0m\u001b[1;32m      3\u001b[0m \u001b[0;32mimport\u001b[0m \u001b[0mpandas\u001b[0m \u001b[0;32mas\u001b[0m \u001b[0mpd\u001b[0m\u001b[0;34m\u001b[0m\u001b[0m\n\u001b[1;32m      4\u001b[0m \u001b[0;32mimport\u001b[0m \u001b[0mdatetime\u001b[0m \u001b[0;32mas\u001b[0m \u001b[0mdt\u001b[0m\u001b[0;34m\u001b[0m\u001b[0m\n\u001b[1;32m      5\u001b[0m \u001b[0;32mimport\u001b[0m \u001b[0mpprint\u001b[0m\u001b[0;34m\u001b[0m\u001b[0m\n",
      "\u001b[0;31mModuleNotFoundError\u001b[0m: No module named 'praw'"
     ]
    }
   ],
   "source": [
    "# set up here\n",
    "import praw \n",
    "import pandas as pd\n",
    "import datetime as dt\n",
    "import pprint \n",
    "\n",
    "\n",
    "#df = pd.read_csv(\"../\")\n",
    "\n",
    "#takeUser details\n",
    "CLIENT_ID = input(\" past yourreddit client_id here \")\n",
    "CLIENT_SECRET = input(\" past yourreddit client_id here client_secret \")\n",
    "YOUR_NAME = input(\" past yourreddit client_id here user_name \")\n",
    "USER_AGENT = f\"python:{CLIENT_ID}:0.1 (by /u/{YOUR_NAME})\"\n",
    "\n",
    "#----------------------\n",
    "#CLIENT_ID = \"CLIENT_ID_HERE\"\n",
    "#CLIENT_SECRET = \"CLIENT_SECRET_HERE\"\n",
    "#USER_AGENT = f\"python:{CLIENT_ID}:0.1 (by /u/YOUR_NAME)\"\n",
    "\n",
    "#access the readit api\n",
    "api = praw.Reddit(\n",
    "    client_id = CLIENT_ID,\n",
    "    client_secret = CLIENT_SECRET,\n",
    "    user_agent = USER_AGENT\n",
    ")\n",
    "\n",
    "# To test the api, see if this returns 'True'\n",
    "api.read_only\n",
    "\n",
    "#readit application\n",
    "kanye_result = []\n",
    "submissions = api.subreddit('kanyewest').hot(limit = 100)\n",
    "\n",
    "for sub in submissions:\n",
    "    kanye_result.append({\n",
    "        \"title\" : sub.title,\n",
    "        \"score\" : sub.score,\n",
    "        \"comments\" : sub.num_comments\n",
    "    })\n",
    "    # test prpint of data\n",
    "    #pprint.pprint(kanye_result)\n",
    "\n",
    "\n",
    "#access code and info    \n",
    "# ploting libraries\n",
    "# mathplot\n",
    "#.json\n",
    "#praw library\n",
    "#Reddit Plots \n",
    "\n",
    "#Exercise: Reddit API\n",
    "\n",
    "#Write a Jupyter Notebook that gets the 100 ‘hottest’ submissions in a subreddit of your choice. Create a list with the title, score and num_comments of every submission and convert to a Pandas Dataframe.\n",
    "#Then save it to a JSON file.\n",
    "\n",
    "#Create a Reddit account (if you don’t have that already) and an app. Note the client ID and client secret.\n",
    "#Install praw using pip\n",
    "#Import the praw and pandas libraries in your program.\n",
    "#Create a new API instance (look at the examples-4 notebook under ‘lesson 8’)\n",
    "#Make a request to the subreddit().hot() method.\n",
    "#Create a new list\n",
    "#Loop over the submissions and add new dictionaries to your new list containing the title, score and num_comments attributes.\n",
    "#Create a new Dataframe with that list and print the first five results.\n",
    "#Save your Dataframe as a JSON file.\n",
    "\n"
   ]
  },
  {
   "cell_type": "code",
   "execution_count": 11,
   "metadata": {},
   "outputs": [],
   "source": [
    "df = pd.DataFrame(kanye_result)\n",
    "df.to_json(\"kanye_reddit.json\")"
   ]
  },
  {
   "cell_type": "code",
   "execution_count": 12,
   "metadata": {},
   "outputs": [
    {
     "data": {
      "text/html": [
       "<div>\n",
       "<style scoped>\n",
       "    .dataframe tbody tr th:only-of-type {\n",
       "        vertical-align: middle;\n",
       "    }\n",
       "\n",
       "    .dataframe tbody tr th {\n",
       "        vertical-align: top;\n",
       "    }\n",
       "\n",
       "    .dataframe thead th {\n",
       "        text-align: right;\n",
       "    }\n",
       "</style>\n",
       "<table border=\"1\" class=\"dataframe\">\n",
       "  <thead>\n",
       "    <tr style=\"text-align: right;\">\n",
       "      <th></th>\n",
       "      <th>comments</th>\n",
       "      <th>score</th>\n",
       "      <th>title</th>\n",
       "    </tr>\n",
       "  </thead>\n",
       "  <tbody>\n",
       "    <tr>\n",
       "      <th>0</th>\n",
       "      <td>0</td>\n",
       "      <td>6</td>\n",
       "      <td>YANDHI LEAKS</td>\n",
       "    </tr>\n",
       "    <tr>\n",
       "      <th>1</th>\n",
       "      <td>0</td>\n",
       "      <td>11</td>\n",
       "      <td>I present to you, Lil Kanye</td>\n",
       "    </tr>\n",
       "    <tr>\n",
       "      <th>2</th>\n",
       "      <td>0</td>\n",
       "      <td>0</td>\n",
       "      <td>Kanye West theory continued, watch his Trump i...</td>\n",
       "    </tr>\n",
       "    <tr>\n",
       "      <th>3</th>\n",
       "      <td>1</td>\n",
       "      <td>9</td>\n",
       "      <td>Kanye West's idea to redesign Air Force One as...</td>\n",
       "    </tr>\n",
       "    <tr>\n",
       "      <th>4</th>\n",
       "      <td>0</td>\n",
       "      <td>0</td>\n",
       "      <td>Npc lives matter</td>\n",
       "    </tr>\n",
       "  </tbody>\n",
       "</table>\n",
       "</div>"
      ],
      "text/plain": [
       "   comments  score                                              title\n",
       "0         0      6                                       YANDHI LEAKS\n",
       "1         0     11                        I present to you, Lil Kanye\n",
       "2         0      0  Kanye West theory continued, watch his Trump i...\n",
       "3         1      9  Kanye West's idea to redesign Air Force One as...\n",
       "4         0      0                                   Npc lives matter"
      ]
     },
     "execution_count": 12,
     "metadata": {},
     "output_type": "execute_result"
    }
   ],
   "source": [
    "df.head(5)"
   ]
  },
  {
   "cell_type": "code",
   "execution_count": null,
   "metadata": {},
   "outputs": [],
   "source": []
  }
 ],
 "metadata": {
  "kernelspec": {
   "display_name": "Python 3",
   "language": "python",
   "name": "python3"
  },
  "language_info": {
   "codemirror_mode": {
    "name": "ipython",
    "version": 3
   },
   "file_extension": ".py",
   "mimetype": "text/x-python",
   "name": "python",
   "nbconvert_exporter": "python",
   "pygments_lexer": "ipython3",
   "version": "3.6.5"
  }
 },
 "nbformat": 4,
 "nbformat_minor": 2
}
