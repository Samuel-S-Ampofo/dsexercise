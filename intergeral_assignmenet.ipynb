{
 "cells": [
  {
   "cell_type": "code",
   "execution_count": 7,
   "metadata": {},
   "outputs": [
    {
     "name": "stdout",
     "output_type": "stream",
     "text": [
      "hey ! Bit investor welcome to a wonderfull trading day lets atrt with some basics\n"
     ]
    },
    {
     "name": "stdin",
     "output_type": "stream",
     "text": [
      "what's your full  name :  samuel  sampene ampofo\n",
      "your adress :  schermerslaan 71\n",
      "how much do budget to invest in crypto currenecy :  8000\n",
      "whats you e-mails :  samuelsampene@yahoo.com\n"
     ]
    },
    {
     "name": "stdout",
     "output_type": "stream",
     "text": [
      "great ! samuel  sampene ampofo here are some option to help you on your investment of 8000 TODAY !\n"
     ]
    },
    {
     "name": "stdin",
     "output_type": "stream",
     "text": [
      " \n",
      " 1. type 'exchanges' to get all trading market \n",
      " 2. type 'assets' to get an overview of all crpto currencies  exchanges\n",
      "you want to search for exchanges confirm with 'YES' or 'NO' yes\n"
     ]
    }
   ],
   "source": [
    "# set up here\n",
    "import praw \n",
    "import pandas as pd\n",
    "import datetime as dt\n",
    "import requests\n",
    "import json\n",
    "import pprint\n",
    "\n",
    "\n",
    "user_details  = {}\n",
    "n_line = \"\\n\"\n",
    "\n",
    "print(\"hey ! Bit investor welcome to a wonderfull trading day lets atrt with some basics\")\n",
    "\n",
    "user_name = str(input(\"what's your full  name : \"))\n",
    "user_adress = str(input(\"your adress : \"))\n",
    "user_budget = int(input(\"how much do budget to invest in crypto currenecy : \"))\n",
    "user_email = str(input(\"whats you e-mails : \"))\n",
    "\n",
    "user_details.update({\n",
    "\t                  \"user_name\":user_name,\n",
    "\t                  \"user_address\":user_adress, \n",
    "\t                  \"user_budget\":user_budget, \n",
    "\t                  \"user_email\":user_email, \n",
    "\n",
    "\t                  })\n",
    "\n",
    "#user confirms what he wants to on the appplication\n",
    "user_confirmation = \"no\"\n",
    "while user_confirmation == \"no\":\n",
    "\tprint(f\"great ! {user_name} here are some option to help you on your investment of {user_budget} TODAY !\")\n",
    "\tuser_query = str(input(f\" {n_line} 1. type 'exchanges' to get all trading market {n_line} 2. type 'assets' to get an overview of all crpto currencies \"))\n",
    "\tuser_query = user_query.lower()\n",
    "\tuser_confirmation = str(input( f\"you want to search for {user_query} confirm with 'YES' or 'NO'\" ))\n",
    "\tuser_confirmation = user_confirmation.lower()\n",
    "\n",
    "#whats infnluenec the market\n",
    "#acess to infomations\n",
    "#list all bit trading market and their makrt opening and closesing time\n",
    "#link to their website\n",
    "\n",
    "# all cryptomarket and assets\n",
    "url = f'https://rest.coinapi.io/v1/{user_query}'\n",
    "headers = {'X-CoinAPI-Key' : 'E3EC80DB-0297-44F9-A925-795C54BD4001'}\n",
    "response = requests.get(url, headers=headers)\n",
    "\n",
    "cypto_data = json.loads(response.text)\n",
    "df = pd.DataFrame(cypto_data)\n",
    "\n",
    "#use jupyter notebook to show a table of the top ten list on the market describe// \n",
    "#pprint.pprint(cypto_data)"
   ]
  },
  {
   "cell_type": "code",
   "execution_count": 12,
   "metadata": {},
   "outputs": [
    {
     "data": {
      "text/html": [
       "<div>\n",
       "<style scoped>\n",
       "    .dataframe tbody tr th:only-of-type {\n",
       "        vertical-align: middle;\n",
       "    }\n",
       "\n",
       "    .dataframe tbody tr th {\n",
       "        vertical-align: top;\n",
       "    }\n",
       "\n",
       "    .dataframe thead th {\n",
       "        text-align: right;\n",
       "    }\n",
       "</style>\n",
       "<table border=\"1\" class=\"dataframe\">\n",
       "  <thead>\n",
       "    <tr style=\"text-align: right;\">\n",
       "      <th></th>\n",
       "      <th>data_symbols_count</th>\n",
       "      <th>data_trade_count</th>\n",
       "    </tr>\n",
       "  </thead>\n",
       "  <tbody>\n",
       "    <tr>\n",
       "      <th>count</th>\n",
       "      <td>101.000000</td>\n",
       "      <td>9.100000e+01</td>\n",
       "    </tr>\n",
       "    <tr>\n",
       "      <th>mean</th>\n",
       "      <td>270.811881</td>\n",
       "      <td>5.983982e+07</td>\n",
       "    </tr>\n",
       "    <tr>\n",
       "      <th>std</th>\n",
       "      <td>894.505335</td>\n",
       "      <td>2.322757e+08</td>\n",
       "    </tr>\n",
       "    <tr>\n",
       "      <th>min</th>\n",
       "      <td>1.000000</td>\n",
       "      <td>5.000000e+02</td>\n",
       "    </tr>\n",
       "    <tr>\n",
       "      <th>25%</th>\n",
       "      <td>4.000000</td>\n",
       "      <td>3.788860e+05</td>\n",
       "    </tr>\n",
       "    <tr>\n",
       "      <th>50%</th>\n",
       "      <td>21.000000</td>\n",
       "      <td>2.968942e+06</td>\n",
       "    </tr>\n",
       "    <tr>\n",
       "      <th>75%</th>\n",
       "      <td>208.000000</td>\n",
       "      <td>2.375928e+07</td>\n",
       "    </tr>\n",
       "    <tr>\n",
       "      <th>max</th>\n",
       "      <td>7905.000000</td>\n",
       "      <td>2.085401e+09</td>\n",
       "    </tr>\n",
       "  </tbody>\n",
       "</table>\n",
       "</div>"
      ],
      "text/plain": [
       "       data_symbols_count  data_trade_count\n",
       "count          101.000000      9.100000e+01\n",
       "mean           270.811881      5.983982e+07\n",
       "std            894.505335      2.322757e+08\n",
       "min              1.000000      5.000000e+02\n",
       "25%              4.000000      3.788860e+05\n",
       "50%             21.000000      2.968942e+06\n",
       "75%            208.000000      2.375928e+07\n",
       "max           7905.000000      2.085401e+09"
      ]
     },
     "execution_count": 12,
     "metadata": {},
     "output_type": "execute_result"
    }
   ],
   "source": [
    "df.describe()"
   ]
  },
  {
   "cell_type": "code",
   "execution_count": 16,
   "metadata": {},
   "outputs": [
    {
     "data": {
      "text/html": [
       "<div>\n",
       "<style scoped>\n",
       "    .dataframe tbody tr th:only-of-type {\n",
       "        vertical-align: middle;\n",
       "    }\n",
       "\n",
       "    .dataframe tbody tr th {\n",
       "        vertical-align: top;\n",
       "    }\n",
       "\n",
       "    .dataframe thead th {\n",
       "        text-align: right;\n",
       "    }\n",
       "</style>\n",
       "<table border=\"1\" class=\"dataframe\">\n",
       "  <thead>\n",
       "    <tr style=\"text-align: right;\">\n",
       "      <th></th>\n",
       "      <th>data_symbols_count</th>\n",
       "      <th>data_trade_count</th>\n",
       "    </tr>\n",
       "  </thead>\n",
       "  <tbody>\n",
       "    <tr>\n",
       "      <th>count</th>\n",
       "      <td>101.000000</td>\n",
       "      <td>9.100000e+01</td>\n",
       "    </tr>\n",
       "    <tr>\n",
       "      <th>mean</th>\n",
       "      <td>270.811881</td>\n",
       "      <td>5.983982e+07</td>\n",
       "    </tr>\n",
       "    <tr>\n",
       "      <th>std</th>\n",
       "      <td>894.505335</td>\n",
       "      <td>2.322757e+08</td>\n",
       "    </tr>\n",
       "    <tr>\n",
       "      <th>min</th>\n",
       "      <td>1.000000</td>\n",
       "      <td>5.000000e+02</td>\n",
       "    </tr>\n",
       "    <tr>\n",
       "      <th>25%</th>\n",
       "      <td>4.000000</td>\n",
       "      <td>3.788860e+05</td>\n",
       "    </tr>\n",
       "    <tr>\n",
       "      <th>50%</th>\n",
       "      <td>21.000000</td>\n",
       "      <td>2.968942e+06</td>\n",
       "    </tr>\n",
       "    <tr>\n",
       "      <th>75%</th>\n",
       "      <td>208.000000</td>\n",
       "      <td>2.375928e+07</td>\n",
       "    </tr>\n",
       "    <tr>\n",
       "      <th>max</th>\n",
       "      <td>7905.000000</td>\n",
       "      <td>2.085401e+09</td>\n",
       "    </tr>\n",
       "  </tbody>\n",
       "</table>\n",
       "</div>"
      ],
      "text/plain": [
       "       data_symbols_count  data_trade_count\n",
       "count          101.000000      9.100000e+01\n",
       "mean           270.811881      5.983982e+07\n",
       "std            894.505335      2.322757e+08\n",
       "min              1.000000      5.000000e+02\n",
       "25%              4.000000      3.788860e+05\n",
       "50%             21.000000      2.968942e+06\n",
       "75%            208.000000      2.375928e+07\n",
       "max           7905.000000      2.085401e+09"
      ]
     },
     "execution_count": 16,
     "metadata": {},
     "output_type": "execute_result"
    }
   ],
   "source": [
    "df.describe()"
   ]
  },
  {
   "cell_type": "code",
   "execution_count": null,
   "metadata": {},
   "outputs": [],
   "source": []
  }
 ],
 "metadata": {
  "kernelspec": {
   "display_name": "Python 3",
   "language": "python",
   "name": "python3"
  },
  "language_info": {
   "codemirror_mode": {
    "name": "ipython",
    "version": 3
   },
   "file_extension": ".py",
   "mimetype": "text/x-python",
   "name": "python",
   "nbconvert_exporter": "python",
   "pygments_lexer": "ipython3",
   "version": "3.7.0"
  }
 },
 "nbformat": 4,
 "nbformat_minor": 2
}
