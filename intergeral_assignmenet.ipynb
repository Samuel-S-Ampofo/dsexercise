{
 "cells": [
  {
   "cell_type": "code",
   "execution_count": null,
   "metadata": {},
   "outputs": [
    {
     "name": "stdout",
     "output_type": "stream",
     "text": [
      "hey ! Bit investor welcome to a wonderfull trading day lets start with some basics\n",
      "great ! samuel ampofo here are some option to help you on your investment of 80000 TODAY !\n"
     ]
    },
    {
     "data": {
      "text/html": [
       "<table style=\"width:100%\"><tr><th>Coin name</th><th>Tradecounts</th><th> Exchange ID</th><th>TradingCoins</th></tr></table>"
      ],
      "text/plain": [
       "<IPython.core.display.HTML object>"
      ]
     },
     "metadata": {},
     "output_type": "display_data"
    },
    {
     "data": {
      "text/html": [
       "<table style=\"width:100%\"><tr><td>Bitcoin</td><td>4190326464</a></td><td>BTC</td><td>10492</td></tr></table>"
      ],
      "text/plain": [
       "<IPython.core.display.HTML object>"
      ]
     },
     "metadata": {},
     "output_type": "display_data"
    },
    {
     "data": {
      "text/html": [
       "<table style=\"width:100%\"><tr><td>Yuan Renminbi</td><td>2814365939</a></td><td>CNY</td><td>177</td></tr></table>"
      ],
      "text/plain": [
       "<IPython.core.display.HTML object>"
      ]
     },
     "metadata": {},
     "output_type": "display_data"
    },
    {
     "data": {
      "text/html": [
       "<table style=\"width:100%\"><tr><td>Ethereum</td><td>519490265</a></td><td>ETH</td><td>4666</td></tr></table>"
      ],
      "text/plain": [
       "<IPython.core.display.HTML object>"
      ]
     },
     "metadata": {},
     "output_type": "display_data"
    },
    {
     "data": {
      "text/html": [
       "<table style=\"width:100%\"><tr><td>US Dollar</td><td>473941196</a></td><td>USD</td><td>5314</td></tr></table>"
      ],
      "text/plain": [
       "<IPython.core.display.HTML object>"
      ]
     },
     "metadata": {},
     "output_type": "display_data"
    },
    {
     "data": {
      "text/html": [
       "<table style=\"width:100%\"><tr><td>Litecoin</td><td>466789386</a></td><td>LTC</td><td>1635</td></tr></table>"
      ],
      "text/plain": [
       "<IPython.core.display.HTML object>"
      ]
     },
     "metadata": {},
     "output_type": "display_data"
    },
    {
     "data": {
      "text/html": [
       "<table style=\"width:100%\"><tr><td>Tether</td><td>273741641</a></td><td>USDT</td><td>1222</td></tr></table>"
      ],
      "text/plain": [
       "<IPython.core.display.HTML object>"
      ]
     },
     "metadata": {},
     "output_type": "display_data"
    },
    {
     "data": {
      "text/html": [
       "<table style=\"width:100%\"><tr><td>Yen</td><td>190644752</a></td><td>JPY</td><td>72</td></tr></table>"
      ],
      "text/plain": [
       "<IPython.core.display.HTML object>"
      ]
     },
     "metadata": {},
     "output_type": "display_data"
    },
    {
     "data": {
      "text/html": [
       "<table style=\"width:100%\"><tr><td>Won</td><td>172394943</a></td><td>KRW</td><td>169</td></tr></table>"
      ],
      "text/plain": [
       "<IPython.core.display.HTML object>"
      ]
     },
     "metadata": {},
     "output_type": "display_data"
    },
    {
     "data": {
      "text/html": [
       "<table style=\"width:100%\"><tr><td>Ripple</td><td>139161986</a></td><td>XRP</td><td>121</td></tr></table>"
      ],
      "text/plain": [
       "<IPython.core.display.HTML object>"
      ]
     },
     "metadata": {},
     "output_type": "display_data"
    },
    {
     "data": {
      "text/html": [
       "<table style=\"width:100%\"><tr><td>Euro</td><td>110008156</a></td><td>EUR</td><td>218</td></tr></table>"
      ],
      "text/plain": [
       "<IPython.core.display.HTML object>"
      ]
     },
     "metadata": {},
     "output_type": "display_data"
    },
    {
     "name": "stdout",
     "output_type": "stream",
     "text": [
      "----------exchangerate/ETH---------\n"
     ]
    },
    {
     "data": {
      "text/html": [
       "<table style=\"width:100%\"><tr><th>Coin name</th><th>Exchange Asset ID</th><th> Exchange rate</th><th>time</th></tr></table>"
      ],
      "text/plain": [
       "<IPython.core.display.HTML object>"
      ]
     },
     "metadata": {},
     "output_type": "display_data"
    },
    {
     "data": {
      "text/html": [
       "<table style=\"width:100%\"><tr><td>ETH</td><td>USD</a></td><td>200.1080736885715</td><td>2018-11-02T13:25:12.1299719Z</td></tr></table>"
      ],
      "text/plain": [
       "<IPython.core.display.HTML object>"
      ]
     },
     "metadata": {},
     "output_type": "display_data"
    },
    {
     "data": {
      "text/html": [
       "<table style=\"width:100%\"><tr><td>ETH</td><td>GBP</a></td><td>155.2621916168788</td><td>2018-11-02T13:25:12.1299719Z</td></tr></table>"
      ],
      "text/plain": [
       "<IPython.core.display.HTML object>"
      ]
     },
     "metadata": {},
     "output_type": "display_data"
    },
    {
     "data": {
      "text/html": [
       "<table style=\"width:100%\"><tr><td>ETH</td><td>MESSE</a></td><td>8172.939397654366</td><td>2018-11-02T13:25:12.1299719Z</td></tr></table>"
      ],
      "text/plain": [
       "<IPython.core.display.HTML object>"
      ]
     },
     "metadata": {},
     "output_type": "display_data"
    },
    {
     "data": {
      "text/html": [
       "<table style=\"width:100%\"><tr><td>ETH</td><td>CTX</a></td><td>2456.7385332140516</td><td>2018-11-02T13:25:12.1299719Z</td></tr></table>"
      ],
      "text/plain": [
       "<IPython.core.display.HTML object>"
      ]
     },
     "metadata": {},
     "output_type": "display_data"
    },
    {
     "data": {
      "text/html": [
       "<table style=\"width:100%\"><tr><td>ETH</td><td>DGTX</a></td><td>1714.3836790673752</td><td>2018-11-02T13:25:12.1299719Z</td></tr></table>"
      ],
      "text/plain": [
       "<IPython.core.display.HTML object>"
      ]
     },
     "metadata": {},
     "output_type": "display_data"
    },
    {
     "data": {
      "text/html": [
       "<table style=\"width:100%\"><tr><td>ETH</td><td>JPY</a></td><td>22537.457859830836</td><td>2018-11-02T13:25:12.1299719Z</td></tr></table>"
      ],
      "text/plain": [
       "<IPython.core.display.HTML object>"
      ]
     },
     "metadata": {},
     "output_type": "display_data"
    },
    {
     "data": {
      "text/html": [
       "<table style=\"width:100%\"><tr><td>ETH</td><td>MYST</a></td><td>1782.2135091783996</td><td>2018-11-02T13:25:12.1299719Z</td></tr></table>"
      ],
      "text/plain": [
       "<IPython.core.display.HTML object>"
      ]
     },
     "metadata": {},
     "output_type": "display_data"
    },
    {
     "data": {
      "text/html": [
       "<table style=\"width:100%\"><tr><td>ETH</td><td>ETP</a></td><td>64.01384157861024</td><td>2018-11-02T13:25:12.1299719Z</td></tr></table>"
      ],
      "text/plain": [
       "<IPython.core.display.HTML object>"
      ]
     },
     "metadata": {},
     "output_type": "display_data"
    },
    {
     "data": {
      "text/html": [
       "<table style=\"width:100%\"><tr><td>ETH</td><td>TOPC</a></td><td>18215.122026076708</td><td>2018-11-02T13:25:12.1299719Z</td></tr></table>"
      ],
      "text/plain": [
       "<IPython.core.display.HTML object>"
      ]
     },
     "metadata": {},
     "output_type": "display_data"
    },
    {
     "data": {
      "text/html": [
       "<table style=\"width:100%\"><tr><td>ETH</td><td>MGO</a></td><td>290.9541515515582</td><td>2018-11-02T13:25:12.1299719Z</td></tr></table>"
      ],
      "text/plain": [
       "<IPython.core.display.HTML object>"
      ]
     },
     "metadata": {},
     "output_type": "display_data"
    },
    {
     "name": "stdout",
     "output_type": "stream",
     "text": [
      "{'search_info': {'assets': ['ETH'], 'ex_market': []},\n",
      " 'user_address': 'shjasha 90',\n",
      " 'user_budget': 80000,\n",
      " 'user_email': 'sammsa@.com',\n",
      " 'user_name': 'samuel ampofo'}\n",
      "Next step !!!\n",
      "great ! samuel ampofo here are some more option to help you on your investment of 80000 euros TODAY !\n"
     ]
    }
   ],
   "source": [
    "# set up here\n",
    "import time\n",
    "import pandas as pd\n",
    "import datetime as dt\n",
    "import requests\n",
    "import json\n",
    "import pprint\n",
    "from IPython.core.display import HTML\n",
    "\n",
    "user_details  = {\n",
    "\t\t\t\t\"search_info\":{\"ex_market\":[],\n",
    "\t\t\t\t\"assets\":[]\n",
    "\t\t\t\t}\n",
    "\t\t\t\t}\n",
    "n_line = \"\\n\"\n",
    "\n",
    "print(\"hey ! Bit investor welcome to a wonderfull trading day lets start with some basics\")\n",
    "\n",
    "user_name = str(input(\"what's your full  name : \"))\n",
    "user_adress = str(input(\"your address : \"))\n",
    "user_budget = int(input(\"how much do budget to invest in crypto currenecy :euros \"))\n",
    "user_email = str(input(\"whats you e-mails : \"))\n",
    "\n",
    "#user Information\n",
    "user_details.update({\n",
    "\t\t \t \t \t \"user_name\":user_name,\n",
    "\t \t \t \t \t \"user_address\":user_adress, \n",
    "\t \t \t \t \t  \"user_budget\":user_budget, \n",
    "\t \t \t \t \t  \"user_email\":user_email, \n",
    "\t\t \t \t \t  })\n",
    "\n",
    "\n",
    "# serach fucntion\n",
    "def api_request(ext_url):\n",
    "\turl = f'https://rest.coinapi.io/v1/{ext_url}'\n",
    "\theaders = {'X-CoinAPI-Key' : 'E3EC80DB-0297-44F9-A925-795C54BD4001'}\n",
    "\tresponse = requests.get(url, headers=headers)\n",
    "\tcypto_data = json.loads(response.text)\n",
    "\treturn cypto_data \n",
    "#user confirms what he wants to on the appplication\n",
    "user_confirmation = \"no\"\n",
    "while user_confirmation == \"no\":\n",
    "\tprint(f\"great ! {user_name} here are some option to help you on your investment of {user_budget} TODAY !\")\n",
    "\tuser_query = str(input(f\" {n_line} 1. type 'exchanges' to get all trading markets {n_line} 2. type 'assets' to get an overview of all crypto currencies \"))\n",
    "\tuser_query = user_query.lower()\n",
    "\tuser_confirmation = str(input( f\"you want to search for {user_query} confirm with 'YES' or 'NO'\" ))\n",
    "\tuser_confirmation = user_confirmation.lower()\n",
    "#df = pd.DataFrame(welcom_request)\n",
    "\n",
    "\tif user_query == 'exchanges':\n",
    "\t\twelcom_request = api_request(user_query)\n",
    "\t\tdisplay(HTML(f'<table style=\"width:100%\"><tr><th>Market</th><th>Website</th><th>Exchange ID</th><th>TradingCoins</th></tr></table>'))\n",
    "\t\tfor  exchange in welcom_request:\n",
    "\t\t\tmarket_name = exchange[\"name\"] \n",
    "\t\t\tmarket_website = exchange[\"website\"]\n",
    "\t\t\tmarket_exid = exchange[\"exchange_id\"] \n",
    "\t\t\tmarket_coins = exchange[\"data_symbols_count\"]      \n",
    "\t\t\tdisplay(HTML(f'<table style=\"width:100%\"><tr><td>{market_name}</td><td><a href=\"{market_website}\">{market_website}</a></td><td>{market_exid}</td><td>{market_coins}</td></tr></table>'))\n",
    "\t\t#pprint.pprint(welcom_request)\n",
    "\t\tspecific_query_mation = \"yes\"\n",
    "\t\twhile specific_query_mation  == \"yes\":\n",
    "\t\t\tspecific_query =  input(\"type here the exchange ID of cryptomarket you want information on: \")\n",
    "\t\t\tspecific_query = specific_query.upper()\n",
    "\t\t\tspecific_x_data = api_request(user_query)\n",
    "\t\t\tfor  item in specific_x_data:\n",
    "\t\t\t\tif item[\"exchange_id\"] == specific_query:\n",
    "\t\t\t\t\tprint(f\"-----------here is your information on {specific_query} -----------\")\n",
    "\t\t\t\t\tpprint.pprint(item)\n",
    "\t\t\t\t\tuser_details[\"search_info\"][\"ex_market\"].append(specific_query)\n",
    "\t\t\t\t\tspecific_query_mation =  input(\"do you information on another cryptomarket yes or no: \")\n",
    "\t\t\t\t\tspecific_query_mation = specific_query_mation.lower()\n",
    "\n",
    "\n",
    "\tif user_query == 'assets':\n",
    "\t\twelcom_request = api_request(user_query)\n",
    "\t\twelcom_request = welcom_request[0:10]\n",
    "\t\tdisplay(HTML(f'<table style=\"width:100%\"><tr><th>Coin name</th><th>Tradecounts</th><th> Exchange ID</th><th>TradingCoins</th></tr></table>'))\n",
    "\t\tfor  coin in welcom_request:\n",
    "\t\t\tcoin_name = coin[\"name\"] \n",
    "\t\t\ttrade_counts = coin[\"data_trade_count\"]\n",
    "\t\t\tcoins_trading = coin[\"data_symbols_count\"] \n",
    "\t\t\tid_coins = coin[\"asset_id\"]      \n",
    "\t\t\tdisplay(HTML(f'<table style=\"width:100%\"><tr><td>{coin_name}</td><td>{trade_counts}</a></td><td>{id_coins}</td><td>{coins_trading}</td></tr></table>'))\n",
    "\t\tspecific_query_mation = \"yes\"\n",
    "\t\twhile specific_query_mation  == \"yes\": \n",
    "\t\t\tspecific_query =  input(f\"type here id assest you want information on {n_line} This can be found in the asset id column: \")\n",
    "\t\t\tspecific_query = specific_query.upper()\n",
    "\t\t\turl_specific_query = f\"exchangerate/{specific_query}\"\n",
    "\t\t\tprint( f\"----------{url_specific_query}---------\")\n",
    "\t\t\tasset_api = api_request(url_specific_query)\n",
    "\t\t\tasset_api = asset_api['rates'][0:10]\n",
    "\t\t\t#pprint.pprint(asset_api)\n",
    "\t\t\tuser_details[\"search_info\"][\"assets\"].append(specific_query)\n",
    "\t\t\tdisplay(HTML(f'<table style=\"width:100%\"><tr><th>Coin name</th><th>Exchange Asset ID</th><th> Exchange rate</th><th>time</th></tr></table>'))\n",
    "\t\t\tfor  asset in asset_api:\n",
    "\t\t\t\texchange_name = specific_query \n",
    "\t\t\t\texchange_rate = asset[\"rate\"]\n",
    "\t\t\t\texchange_time = asset[\"time\"]\n",
    "\t\t\t\tid_exchange = asset[\"asset_id_quote\"]     \n",
    "\t\t\t\tdisplay(HTML(f'<table style=\"width:100%\"><tr><td>{exchange_name}</td><td>{id_exchange}</a></td><td>{exchange_rate}</td><td>{exchange_time}</td></tr></table>'))\n",
    "\t\t\tspecific_query_mation =  input(\"do you information on another asset yes or no: \")\n",
    "\t\t\tspecific_query_mation = specific_query_mation.lower()\n",
    "                \n",
    "pprint.pprint(user_details)\n",
    "print(\"Next step !!!\")\n",
    "print(f\"great ! {user_name} here are some more option to help you on your investment of {user_budget} euros TODAY !\")\n",
    "user_next = str(input(f\" {n_line} 1. type 'exchanges' to get all trading market {n_line} 2. type 'assets' to get an overview of all crpto currencies {n_line} 3. type 'analysis' to get a detailed overview of your crypto search\"))\n",
    "user_next = user_query.lower()\n",
    "#user_next_confirmation = str(input( f\"you want to search for {user_query} confirm with 'YES' or 'NO'\" ))\n",
    "#user_next_confirmation = user_confirmation.lower()\n",
    "\n",
    "if user_next == \"exchanges\":\n",
    "\tuser_confirmation = \"no\"\n",
    "if user_next == \"assets\":\n",
    "\tuser_confirmation = \"no\"\n",
    "if user_next == \"analysis\":\n",
    "\tuser_confirmation = \"no\"\n",
    "\n",
    "#done\n",
    "#branching back to th top request\n",
    "#using praw to gather informations on redit but did worka\n",
    "#acess to infomations --\n",
    "#list all bit trading market and their makrt opening and closesing time\n",
    "#link to their website\n",
    "# all cryptomarket and assets\n",
    "#whats infnluenec the market --\n",
    "\n",
    "#datafram detail analysis of user search\n",
    "#use jupyter notebook to show a table of the top ten list on the market describe// \n",
    "#best advice based on histro\n",
    "#pprint.pprint(cypto_data)"
   ]
  },
  {
   "cell_type": "code",
   "execution_count": null,
   "metadata": {},
   "outputs": [],
   "source": [
    "df.head()"
   ]
  },
  {
   "cell_type": "code",
   "execution_count": null,
   "metadata": {},
   "outputs": [],
   "source": []
  },
  {
   "cell_type": "code",
   "execution_count": null,
   "metadata": {},
   "outputs": [],
   "source": []
  }
 ],
 "metadata": {
  "kernelspec": {
   "display_name": "Python 3",
   "language": "python",
   "name": "python3"
  },
  "language_info": {
   "codemirror_mode": {
    "name": "ipython",
    "version": 3
   },
   "file_extension": ".py",
   "mimetype": "text/x-python",
   "name": "python",
   "nbconvert_exporter": "python",
   "pygments_lexer": "ipython3",
   "version": "3.6.5"
  }
 },
 "nbformat": 4,
 "nbformat_minor": 2
}
