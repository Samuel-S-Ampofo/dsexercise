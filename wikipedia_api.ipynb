{
 "cells": [
  {
   "cell_type": "code",
   "execution_count": 17,
   "metadata": {},
   "outputs": [
    {
     "name": "stdin",
     "output_type": "stream",
     "text": [
      "type here what you want to search on wikipedia :  donarld trump\n",
      "type the language in which you want the article:  english\n",
      "confirm if your serach query is accurate by typing 'YES' or No  yes\n"
     ]
    },
    {
     "name": "stdout",
     "output_type": "stream",
     "text": [
      "------------------------- HERE IS THE RESUT OF YOUR WIKI SEARCH ON Donarld_Trump --------------------------------\n",
      "oops you have a back network thing here\n"
     ]
    },
    {
     "ename": "KeyError",
     "evalue": "'description'",
     "output_type": "error",
     "traceback": [
      "\u001b[0;31m---------------------------------------------------------------------------\u001b[0m",
      "\u001b[0;31mKeyError\u001b[0m                                  Traceback (most recent call last)",
      "\u001b[0;32m<ipython-input-17-80a0650ad08b>\u001b[0m in \u001b[0;36m<module>\u001b[0;34m()\u001b[0m\n\u001b[1;32m     85\u001b[0m \u001b[0;31m#output to user and the functions call for article serach and related search\u001b[0m\u001b[0;34m\u001b[0m\u001b[0;34m\u001b[0m\u001b[0m\n\u001b[1;32m     86\u001b[0m \u001b[0mprint\u001b[0m\u001b[0;34m(\u001b[0m\u001b[0;34mf\"------------------------- HERE IS THE RESUT OF YOUR WIKI SEARCH ON {user_search} --------------------------------\"\u001b[0m\u001b[0;34m)\u001b[0m\u001b[0;34m\u001b[0m\u001b[0m\n\u001b[0;32m---> 87\u001b[0;31m \u001b[0marticle_search\u001b[0m\u001b[0;34m(\u001b[0m\u001b[0muser_search\u001b[0m\u001b[0;34m,\u001b[0m\u001b[0mjson_data\u001b[0m\u001b[0;34m,\u001b[0m\u001b[0muser_lang\u001b[0m\u001b[0;34m)\u001b[0m\u001b[0;34m\u001b[0m\u001b[0m\n\u001b[0m\u001b[1;32m     88\u001b[0m \u001b[0mprint\u001b[0m\u001b[0;34m(\u001b[0m\u001b[0;34mf\"------------------------- HERE AER THE RELATED RESULT OF YOUR WIKI SEARCH ON {user_search}-----------------------\"\u001b[0m\u001b[0;34m)\u001b[0m\u001b[0;34m\u001b[0m\u001b[0m\n\u001b[1;32m     89\u001b[0m \u001b[0mrelated_search\u001b[0m\u001b[0;34m(\u001b[0m\u001b[0muser_search\u001b[0m\u001b[0;34m,\u001b[0m\u001b[0mjson_data\u001b[0m\u001b[0;34m,\u001b[0m\u001b[0muser_lang\u001b[0m\u001b[0;34m)\u001b[0m\u001b[0;34m\u001b[0m\u001b[0m\n",
      "\u001b[0;32m<ipython-input-17-80a0650ad08b>\u001b[0m in \u001b[0;36marticle_search\u001b[0;34m(article, langdata, artlang)\u001b[0m\n\u001b[1;32m     39\u001b[0m         \u001b[0;32mfor\u001b[0m \u001b[0mkey\u001b[0m \u001b[0;32min\u001b[0m \u001b[0msearch_data\u001b[0m\u001b[0;34m:\u001b[0m\u001b[0;34m\u001b[0m\u001b[0m\n\u001b[1;32m     40\u001b[0m                 \u001b[0marticle_tittle\u001b[0m \u001b[0;34m=\u001b[0m \u001b[0msearch_data\u001b[0m\u001b[0;34m[\u001b[0m\u001b[0;34m\"title\"\u001b[0m\u001b[0;34m]\u001b[0m\u001b[0;34m\u001b[0m\u001b[0m\n\u001b[0;32m---> 41\u001b[0;31m                 \u001b[0marticle_description\u001b[0m \u001b[0;34m=\u001b[0m \u001b[0msearch_data\u001b[0m\u001b[0;34m[\u001b[0m\u001b[0;34m\"description\"\u001b[0m\u001b[0;34m]\u001b[0m\u001b[0;34m\u001b[0m\u001b[0m\n\u001b[0m\u001b[1;32m     42\u001b[0m                 \u001b[0marticle_extract\u001b[0m \u001b[0;34m=\u001b[0m \u001b[0msearch_data\u001b[0m\u001b[0;34m[\u001b[0m\u001b[0;34m\"extract\"\u001b[0m\u001b[0;34m]\u001b[0m\u001b[0;34m\u001b[0m\u001b[0m\n\u001b[1;32m     43\u001b[0m                 \u001b[0;32mif\u001b[0m \u001b[0mkey\u001b[0m \u001b[0;34m==\u001b[0m \u001b[0;34m\"thumbnail\"\u001b[0m\u001b[0;34m:\u001b[0m\u001b[0;34m\u001b[0m\u001b[0m\n",
      "\u001b[0;31mKeyError\u001b[0m: 'description'"
     ]
    }
   ],
   "source": [
    "#imprts start here\n",
    "import requests\n",
    "import json\n",
    "import pprint\n",
    "# import ipython module for html and image\n",
    "from IPython.core.display import display, HTML\n",
    "\n",
    "#user query and information formating\n",
    "user_confirmation = \"no\"\n",
    "while  user_confirmation == \"no\":\n",
    "\tuser_text = input(\"type here what you want to search on wikipedia : \")\n",
    "\tuser_text = user_text.split(' ')\n",
    "\tuser_lang = input(\"type the language in which you want the article: \")\n",
    "\tuser_lang = user_lang.title()\n",
    "\tuser_search = '_'.join(map(str,user_text)).title()\n",
    "\tconfirm_msg =input(f\"confirm if your serach query is accurate by typing 'YES' or No \")\n",
    "\tuser_confirmation = confirm_msg.lower()\n",
    "        \n",
    "# reading language jason// this you must privde the isonland file in you document //\n",
    "with open(\"../documents/isolangs.json\") as json_file:\n",
    "    json_data = json.load(json_file)\n",
    "\n",
    " # a simple fuction to search for article   \n",
    "def article_search(article,langdata,artlang):\n",
    "\tfor key in langdata:\n",
    "\t\tif  artlang == langdata[key][\"name\"]:\n",
    "\t\t\tlang_code = key\n",
    "\tsearch_url = f'https://{lang_code}.wikipedia.org/api/rest_v1/page/summary/{article}'\t\t\n",
    "\treq_rturn = requests.get(search_url)\n",
    "\tif req_rturn.status_code != 200:\n",
    "\t\t\tprint(\"oops you have a back network thing here\")\n",
    "\t\t\texit()\n",
    "\tsearch_data = json.loads(req_rturn.text)\n",
    "\tnl = \"\\n\"\n",
    "\t#global and local scope was a hug problem here\n",
    "\tarticle_cordinates = \"no\"\n",
    "\tarticle_thumbnail = \"no\"\n",
    "\tmessage_rr = \"sorry not data\"\n",
    "\tfor key in search_data:\n",
    "\t\tarticle_tittle = search_data[\"title\"]\n",
    "\t\tarticle_description = search_data[\"description\"]\n",
    "\t\tarticle_extract = search_data[\"extract\"]\n",
    "\t\tif key == \"thumbnail\":\n",
    "\t\t\tarticle_thumbnail = search_data[\"thumbnail\"]\n",
    "\t\t\tdisplay(HTML(f'<img src={article_thumbnail[\"source\"]} alt= height = {article_thumbnail[\"height\"]} width = {article_thumbnail[\"width\"]}>'))                 \n",
    "\t\tif  key == \"coordinates\":\n",
    "\t\t\tarticle_cordinates = search_data[\"coordinates\"]\n",
    "\t\t\tdisplay(HTML(f'<a href=\"http://www.google.com/maps/place/{article_cordinates[\"lat\"]},{article_cordinates[\"lon\"]}\">click here to see map</a>'))\n",
    "\tif article_thumbnail == \"no\":\n",
    "\t\t\tdisplay(HTML(f'<p> sorry article has no thumbnails<p><br>'))\n",
    "\tif article_cordinates == \"no\":\n",
    "\t\t\tdisplay(HTML(f'<p> sorry article has no maps<p><br>'))\n",
    "\tdisplay(HTML(f'<h1>Tittle: {article_tittle}</h1><br>'))\n",
    "\tdisplay(HTML(f'<p>Extract: {article_description}<p><br>'))\n",
    "\tdisplay(HTML(f'<p>{article_extract}<p>'))            \n",
    "\n",
    "                         \n",
    "# a simple function to serach for related articles                          \n",
    "def related_search(related_list,langdata,rtllang):\n",
    "\tfor key in langdata:\n",
    "\t\tif  rtllang == langdata[key][\"name\"]:\n",
    "\t\t\trlt_lang_code =  key\n",
    "\n",
    "\trelated_srch = f'https://{rlt_lang_code}.wikipedia.org/api/rest_v1/page/related/{related_list}'\t\t\n",
    "\treq_related = requests.get(related_srch)\n",
    "\n",
    "\tif req_related.status_code != 200:\n",
    "\t\t\tprint(\"oops you have a back network thing here\")\n",
    "\t\t\texit()\n",
    "\trlt_search_data = json.loads(req_related.text)\n",
    "\tnl = \"\\n\"\n",
    "\trlt_short = rlt_search_data[\"pages\"][0:3]\n",
    "\n",
    "\tfor rtl_details in rlt_short:\n",
    "\t\tfor items in rtl_details:\n",
    "\t\t\trtl_tittle = rtl_details[\"title\"]\n",
    "\t\t\tclr_tittle = rtl_tittle.split('_')\n",
    "\t\t\tcln_tittle = \" \".join(map(str,clr_tittle))\n",
    "\t\t\trtl_description = rtl_details[\"description\"]\n",
    "\t\t\trtl_des_url = rtl_details[\"content_urls\"][\"desktop\"][\"page\"]\n",
    "\t\tdisplay(HTML(f'<p>Tittle: {cln_tittle}<p>'))\n",
    "\t\tdisplay(HTML(f'<p>Description: {rtl_description}<p>'))\n",
    "\t\tdisplay(HTML(f'<a href=\"{rtl_des_url}\">click here to read more ..</a>'))\n",
    "\n",
    "#output to user and the functions call for article serach and related search                         \n",
    "print(f\"------------------------- HERE IS THE RESUT OF YOUR WIKI SEARCH ON {user_search} --------------------------------\")\n",
    "article_search(user_search,json_data,user_lang)\n",
    "print(f\"------------------------- HERE AER THE RELATED RESULT OF YOUR WIKI SEARCH ON {user_search}-----------------------\")               \n",
    "related_search(user_search,json_data,user_lang)\n",
    "\n",
    "                         "
   ]
  },
  {
   "cell_type": "code",
   "execution_count": null,
   "metadata": {},
   "outputs": [],
   "source": []
  },
  {
   "cell_type": "code",
   "execution_count": null,
   "metadata": {},
   "outputs": [],
   "source": []
  }
 ],
 "metadata": {
  "kernelspec": {
   "display_name": "Python 3",
   "language": "python",
   "name": "python3"
  },
  "language_info": {
   "codemirror_mode": {
    "name": "ipython",
    "version": 3
   },
   "file_extension": ".py",
   "mimetype": "text/x-python",
   "name": "python",
   "nbconvert_exporter": "python",
   "pygments_lexer": "ipython3",
   "version": "3.7.0"
  }
 },
 "nbformat": 4,
 "nbformat_minor": 2
}
