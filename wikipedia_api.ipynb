{
 "cells": [
  {
   "cell_type": "code",
   "execution_count": 7,
   "metadata": {},
   "outputs": [
    {
     "name": "stdin",
     "output_type": "stream",
     "text": [
      "type here what you want to search on wikipedia :  jay z\n",
      "type the language in which you want the article:  english\n",
      "confirm is your serach query accurate by typing 'YES' or No  yes\n"
     ]
    },
    {
     "name": "stdout",
     "output_type": "stream",
     "text": [
      "------------------------- HERE IS THE RESUT OF YOUR WIKI SEARCH ON --------------------------------\n"
     ]
    },
    {
     "data": {
      "text/html": [
       "<img src=https://upload.wikimedia.org/wikipedia/commons/thumb/9/9c/Jay-Z_%40_Shawn_%27Jay-Z%27_Carter_Foundation_Carnival_%28crop_2%29.jpg/241px-Jay-Z_%40_Shawn_%27Jay-Z%27_Carter_Foundation_Carnival_%28crop_2%29.jpg alt= height = 320 width = 241>"
      ],
      "text/plain": [
       "<IPython.core.display.HTML object>"
      ]
     },
     "metadata": {},
     "output_type": "display_data"
    },
    {
     "data": {
      "text/html": [
       "<p> sorry article has no maps<p><br>"
      ],
      "text/plain": [
       "<IPython.core.display.HTML object>"
      ]
     },
     "metadata": {},
     "output_type": "display_data"
    },
    {
     "data": {
      "text/html": [
       "<h1>Tittle: Jay-Z</h1><br>"
      ],
      "text/plain": [
       "<IPython.core.display.HTML object>"
      ]
     },
     "metadata": {},
     "output_type": "display_data"
    },
    {
     "data": {
      "text/html": [
       "<p>Extract: American rapper, businessman, entrepreneur, record executive, songwriter, record producer and investor<p><br>"
      ],
      "text/plain": [
       "<IPython.core.display.HTML object>"
      ]
     },
     "metadata": {},
     "output_type": "display_data"
    },
    {
     "data": {
      "text/html": [
       "<p>Shawn Corey Carter known professionally as Jay-Z, is an American rapper, entrepreneur, songwriter, and record producer. He is one of the world's best-selling music artists, and one of the most acclaimed rappers of all time.<p>"
      ],
      "text/plain": [
       "<IPython.core.display.HTML object>"
      ]
     },
     "metadata": {},
     "output_type": "display_data"
    },
    {
     "name": "stdout",
     "output_type": "stream",
     "text": [
      "------------------------- HERE IS THE RELATED RESULT OF YOUR WIKI SEARCH-----------------------\n"
     ]
    },
    {
     "data": {
      "text/html": [
       "<p>Tittle: The_Blueprint<p>"
      ],
      "text/plain": [
       "<IPython.core.display.HTML object>"
      ]
     },
     "metadata": {},
     "output_type": "display_data"
    },
    {
     "data": {
      "text/html": [
       "<p>Description: 2001 album by Jay-Z<p>"
      ],
      "text/plain": [
       "<IPython.core.display.HTML object>"
      ]
     },
     "metadata": {},
     "output_type": "display_data"
    },
    {
     "data": {
      "text/html": [
       "<a href=\"https://en.wikipedia.org/wiki/The_Blueprint\">click here to read more ..</a>"
      ],
      "text/plain": [
       "<IPython.core.display.HTML object>"
      ]
     },
     "metadata": {},
     "output_type": "display_data"
    },
    {
     "data": {
      "text/html": [
       "<p>Tittle: Kanye_West<p>"
      ],
      "text/plain": [
       "<IPython.core.display.HTML object>"
      ]
     },
     "metadata": {},
     "output_type": "display_data"
    },
    {
     "data": {
      "text/html": [
       "<p>Description: American rapper, singer, and record producer from Illinois<p>"
      ],
      "text/plain": [
       "<IPython.core.display.HTML object>"
      ]
     },
     "metadata": {},
     "output_type": "display_data"
    },
    {
     "data": {
      "text/html": [
       "<a href=\"https://en.wikipedia.org/wiki/Kanye_West\">click here to read more ..</a>"
      ],
      "text/plain": [
       "<IPython.core.display.HTML object>"
      ]
     },
     "metadata": {},
     "output_type": "display_data"
    },
    {
     "data": {
      "text/html": [
       "<p>Tittle: Roc-A-Fella_Records<p>"
      ],
      "text/plain": [
       "<IPython.core.display.HTML object>"
      ]
     },
     "metadata": {},
     "output_type": "display_data"
    },
    {
     "data": {
      "text/html": [
       "<p>Description: record label<p>"
      ],
      "text/plain": [
       "<IPython.core.display.HTML object>"
      ]
     },
     "metadata": {},
     "output_type": "display_data"
    },
    {
     "data": {
      "text/html": [
       "<a href=\"https://en.wikipedia.org/wiki/Roc-A-Fella_Records\">click here to read more ..</a>"
      ],
      "text/plain": [
       "<IPython.core.display.HTML object>"
      ]
     },
     "metadata": {},
     "output_type": "display_data"
    }
   ],
   "source": [
    "#imprts start here\n",
    "import requests\n",
    "import json\n",
    "import pprint\n",
    "# import ipython module for html and image\n",
    "from IPython.core.display import display, HTML\n",
    "\n",
    "#user query and information formating\n",
    "user_confirmation = \"no\"\n",
    "while  user_confirmation == \"no\":\n",
    "\tuser_text = input(\"type here what you want to search on wikipedia : \")\n",
    "\tuser_text = user_text.split(' ')\n",
    "\tuser_lang = input(\"type the language in which you want the article: \")\n",
    "\tuser_lang = user_lang.title()\n",
    "\tuser_search = '_'.join(map(str,user_text)).title()\n",
    "\tconfirm_msg =input(f\"confirm is your serach query accurate by typing 'YES' or No \")\n",
    "\tuser_confirmation = confirm_msg.lower()\n",
    "        \n",
    "# reading language jason// this you must privde the isonland file in you document //\n",
    "with open(\"../documents/isolangs.json\") as json_file:\n",
    "    json_data = json.load(json_file)\n",
    "\n",
    " # a simple fuction to serach for article   \n",
    "def article_search(article,langdata,lang):\n",
    "\tfor key in langdata:\n",
    "\t\tif  lang == langdata[key][\"name\"]:\n",
    "\t\t\tlang_code = key\n",
    "\tsearch_url = f'https://{lang_code}.wikipedia.org/api/rest_v1/page/summary/{article}'\t\t\n",
    "\treq_rturn = requests.get(search_url)\n",
    "\tif req_rturn.status_code != 200:\n",
    "\t\t\tprint(\"oops you have a back network thing here\")\n",
    "\t\t\texit()\n",
    "\tsearch_data = json.loads(req_rturn.text)\n",
    "\tnl = \"\\n\"\n",
    "    \n",
    "\t#global and local scope was a hug problem here\n",
    "\tarticle_cordinates = \"no\"\n",
    "\tarticle_thumbnail = \"no\"\n",
    "\tmessage_rr = \"sorry not data\"\n",
    "\tfor key in search_data:\n",
    "\t\tarticle_tittle = search_data[\"title\"]\n",
    "\t\tarticle_description = search_data[\"description\"]\n",
    "\t\tarticle_extract = search_data[\"extract\"]\n",
    "\t\tif key == \"thumbnail\":\n",
    "\t\t\tarticle_thumbnail = search_data[\"thumbnail\"]\n",
    "\t\t\tdisplay(HTML(f'<img src={article_thumbnail[\"source\"]} alt= height = {article_thumbnail[\"height\"]} width = {article_thumbnail[\"width\"]}>'))                 \n",
    "\t\tif  key == \"coordinates\":\n",
    "\t\t\tarticle_cordinates = search_data[\"coordinates\"]\n",
    "\t\t\tdisplay(HTML(f'<a href=\"http://www.google.com/maps/place/{article_cordinates[\"lat\"]},{article_cordinates[\"lon\"]}\">click here to see map</a>'))\n",
    "\tif article_thumbnail == \"no\":\n",
    "\t\t\tdisplay(HTML(f'<p> sorry article has no thumbnails<p><br>'))\n",
    "\tif article_cordinates == \"no\":\n",
    "\t\t\tdisplay(HTML(f'<p> sorry article has no maps<p><br>'))\n",
    "\n",
    "\n",
    "\tdisplay(HTML(f'<h1>Tittle: {article_tittle}</h1><br>'))\n",
    "\tdisplay(HTML(f'<p>Extract: {article_description}<p><br>'))\n",
    "\tdisplay(HTML(f'<p>{article_extract}<p>'))            \n",
    "\n",
    "                         \n",
    "# a simple fuction to serach for related articles                          \n",
    "def related_search(related_list,langdata,rtllang):\n",
    "\tfor key in langdata:\n",
    "\t\tif  rtllang == langdata[key][\"name\"]:\n",
    "\t\t\trlt_lang_code =  key\n",
    "\n",
    "\trelated_srch = f'https://{rlt_lang_code}.wikipedia.org/api/rest_v1/page/related/{related_list}'\t\t\n",
    "\treq_related = requests.get(related_srch)\n",
    "\n",
    "\tif req_related.status_code != 200:\n",
    "\t\t\tprint(\"oops you have a back network thing here\")\n",
    "\t\t\texit()\n",
    "\trlt_search_data = json.loads(req_related.text)\n",
    "\tnl = \"\\n\"\n",
    "\trlt_short = rlt_search_data[\"pages\"][0:3]\n",
    "\t\n",
    "\n",
    "\tfor rtl_details in rlt_short:\n",
    "\t\tfor items in rtl_details:\n",
    "\t\t\trtl_tittle = rtl_details[\"title\"]\n",
    "\t\t\trtl_description = rtl_details[\"description\"]\n",
    "\t\t\trtl_des_url = rtl_details[\"content_urls\"][\"desktop\"][\"page\"]\n",
    "\t\tdisplay(HTML(f'<p>Tittle: {rtl_tittle}<p>'))\n",
    "\t\tdisplay(HTML(f'<p>Description: {rtl_description}<p>'))\n",
    "\t\tdisplay(HTML(f'<a href=\"{rtl_des_url}\">click here to read more ..</a>'))\n",
    "                         \n",
    "\n",
    "#output to user and the funtions call for article serach and related search                         \n",
    "print(f\"------------------------- HERE IS THE RESUT OF YOUR WIKI SEARCH ON {}--------------------------------\")\n",
    "article_search(user_search,json_data,user_lang)\n",
    "print(f\"------------------------- HERE IS THE RELATED RESULT OF YOUR WIKI SEARCH ON{} ---------------------\")               \n",
    "related_search(user_search,json_data,user_lang)\n",
    "\n",
    "#wikipedia python api module install// personal additions\n",
    "\n",
    "#Whats your program should do:\n",
    "#Your program must:\n",
    "#Import the requests module and the display, Image and HTML functions from the IPython.display module\n",
    "#**************************************\n",
    "#Ask for the article you want to lookup on Wikipedia. \n",
    "\n",
    "#also ask which language you want to do query (make sure to understand how the API endpoint changes because of this)\n",
    "#Confirm the article and language to the user\n",
    "\n",
    "#Do a HTTP GET request to the Wikipedia REST Summary API (https://en.wikipedia.org/api/rest_v1/#!/Page_content/get_page_summary_title)\n",
    "#Check if the HTTP request gave a 200 HTTP status code and, if so, print that your query was successful. Otherwise print an error message\n",
    "#Convert the JSON data the API returns to a Python dict\n",
    "#Print the returned title and description from the API request\n",
    "#done here **********************************************\n",
    "\n",
    "#Check if there’s a thumbnail, and if so, extract the thumbnail source, the html extract and \n",
    "#use the Image, HTML and display function to show those in the Jupyter Notebook. \n",
    "#If there’s no thumbnail, print an error message.\n",
    "#Check if there’s a coordinate in the page, and if so, extract the ‘lat’ and ‘lon’ properties. \n",
    "#Add those to the Google Maps website (‘http://maps.google.com/?q=....’) \n",
    "#and print the URL so people can click on it. If there’s no coordinate, print an error message.\n",
    "                 \n",
    "#ddo this part later here **********************************************\n",
    "#Query the Wikipedia related API for articles related to the original article\n",
    "#(https://en.wikipedia.org/api/rest_v1/#!/Page_content/getRelatedPages) \n",
    "#using the same methods as you did for the summary (so return an error when you don’t get a 200, etc.).\n",
    "#Create a new list and from the first three related results append a dict with the title, description and url to the desktop version of the related article to that list.\n",
    "#Loop through the newly created list and print every item using a nicely formatted strin g (e.g.: ‘* Article title: article description: http://en.wikipedia.org/wiki/link-to-article’)\n",
    "#\n",
    "#Be properly commented in the code in your notebook.\n",
    "#Be executable using the Jupyter Notebook webapp. "
   ]
  },
  {
   "cell_type": "code",
   "execution_count": null,
   "metadata": {},
   "outputs": [],
   "source": []
  },
  {
   "cell_type": "code",
   "execution_count": null,
   "metadata": {},
   "outputs": [],
   "source": []
  }
 ],
 "metadata": {
  "kernelspec": {
   "display_name": "Python 3",
   "language": "python",
   "name": "python3"
  },
  "language_info": {
   "codemirror_mode": {
    "name": "ipython",
    "version": 3
   },
   "file_extension": ".py",
   "mimetype": "text/x-python",
   "name": "python",
   "nbconvert_exporter": "python",
   "pygments_lexer": "ipython3",
   "version": "3.7.0"
  }
 },
 "nbformat": 4,
 "nbformat_minor": 2
}
