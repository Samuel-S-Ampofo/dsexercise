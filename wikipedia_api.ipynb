{
 "cells": [
  {
   "cell_type": "code",
   "execution_count": 8,
   "metadata": {},
   "outputs": [
    {
     "name": "stdin",
     "output_type": "stream",
     "text": [
      "type here what you want to search on wikipedia :  ghana\n",
      "type the language in which you want the article:  english\n",
      "confirm is your serach query accurate by typing 'YES' or No  no\n",
      "type here what you want to search on wikipedia :  obama\n",
      "type the language in which you want the article:  english\n",
      "confirm is your serach query accurate by typing 'YES' or No  yes\n"
     ]
    },
    {
     "name": "stdout",
     "output_type": "stream",
     "text": [
      "------------------------- HERE IS THE RESUT OF YOUR WIKI SEARCH ON Obama--------------------------------\n"
     ]
    },
    {
     "data": {
      "text/html": [
       "<img src=https://upload.wikimedia.org/wikipedia/commons/thumb/8/8d/President_Barack_Obama.jpg/256px-President_Barack_Obama.jpg alt= height = 320 width = 256>"
      ],
      "text/plain": [
       "<IPython.core.display.HTML object>"
      ]
     },
     "metadata": {},
     "output_type": "display_data"
    },
    {
     "data": {
      "text/html": [
       "<p> sorry article has no maps<p><br>"
      ],
      "text/plain": [
       "<IPython.core.display.HTML object>"
      ]
     },
     "metadata": {},
     "output_type": "display_data"
    },
    {
     "data": {
      "text/html": [
       "<h1>Tittle: Barack Obama</h1><br>"
      ],
      "text/plain": [
       "<IPython.core.display.HTML object>"
      ]
     },
     "metadata": {},
     "output_type": "display_data"
    },
    {
     "data": {
      "text/html": [
       "<p>Extract: 44th President of the United States<p><br>"
      ],
      "text/plain": [
       "<IPython.core.display.HTML object>"
      ]
     },
     "metadata": {},
     "output_type": "display_data"
    },
    {
     "data": {
      "text/html": [
       "<p>Barack Hussein Obama II is an American politician who served as the 44th President of the United States from January 20, 2009, to January 20, 2017. A member of the Democratic Party, he was the first African American to be elected to the presidency and previously served as a United States Senator from Illinois (2005–2008).<p>"
      ],
      "text/plain": [
       "<IPython.core.display.HTML object>"
      ]
     },
     "metadata": {},
     "output_type": "display_data"
    },
    {
     "name": "stdout",
     "output_type": "stream",
     "text": [
      "------------------------- HERE IS THE RELATED RESULT OF YOUR WIKI SEARCH ONObama -----------------------\n"
     ]
    },
    {
     "data": {
      "text/html": [
       "<p>Tittle: Michelle_Obama<p>"
      ],
      "text/plain": [
       "<IPython.core.display.HTML object>"
      ]
     },
     "metadata": {},
     "output_type": "display_data"
    },
    {
     "data": {
      "text/html": [
       "<p>Description: lawyer, writer, wife of Barack Obama and former First Lady of the United States<p>"
      ],
      "text/plain": [
       "<IPython.core.display.HTML object>"
      ]
     },
     "metadata": {},
     "output_type": "display_data"
    },
    {
     "data": {
      "text/html": [
       "<a href=\"https://en.wikipedia.org/wiki/Michelle_Obama\">click here to read more ..</a>"
      ],
      "text/plain": [
       "<IPython.core.display.HTML object>"
      ]
     },
     "metadata": {},
     "output_type": "display_data"
    },
    {
     "data": {
      "text/html": [
       "<p>Tittle: Austan_Goolsbee<p>"
      ],
      "text/plain": [
       "<IPython.core.display.HTML object>"
      ]
     },
     "metadata": {},
     "output_type": "display_data"
    },
    {
     "data": {
      "text/html": [
       "<p>Description: American economist<p>"
      ],
      "text/plain": [
       "<IPython.core.display.HTML object>"
      ]
     },
     "metadata": {},
     "output_type": "display_data"
    },
    {
     "data": {
      "text/html": [
       "<a href=\"https://en.wikipedia.org/wiki/Austan_Goolsbee\">click here to read more ..</a>"
      ],
      "text/plain": [
       "<IPython.core.display.HTML object>"
      ]
     },
     "metadata": {},
     "output_type": "display_data"
    },
    {
     "data": {
      "text/html": [
       "<p>Tittle: Dreams_from_My_Father<p>"
      ],
      "text/plain": [
       "<IPython.core.display.HTML object>"
      ]
     },
     "metadata": {},
     "output_type": "display_data"
    },
    {
     "data": {
      "text/html": [
       "<p>Description: Book by Barack Obama<p>"
      ],
      "text/plain": [
       "<IPython.core.display.HTML object>"
      ]
     },
     "metadata": {},
     "output_type": "display_data"
    },
    {
     "data": {
      "text/html": [
       "<a href=\"https://en.wikipedia.org/wiki/Dreams_from_My_Father\">click here to read more ..</a>"
      ],
      "text/plain": [
       "<IPython.core.display.HTML object>"
      ]
     },
     "metadata": {},
     "output_type": "display_data"
    }
   ],
   "source": [
    "#imprts start here\n",
    "import requests\n",
    "import json\n",
    "import pprint\n",
    "# import ipython module for html and image\n",
    "from IPython.core.display import display, HTML\n",
    "\n",
    "#user query and information formating\n",
    "user_confirmation = \"no\"\n",
    "while  user_confirmation == \"no\":\n",
    "\tuser_text = input(\"type here what you want to search on wikipedia : \")\n",
    "\tuser_text = user_text.split(' ')\n",
    "\tuser_lang = input(\"type the language in which you want the article: \")\n",
    "\tuser_lang = user_lang.title()\n",
    "\tuser_search = '_'.join(map(str,user_text)).title()\n",
    "\tconfirm_msg =input(f\"confirm is your serach query accurate by typing 'YES' or No \")\n",
    "\tuser_confirmation = confirm_msg.lower()\n",
    "        \n",
    "# reading language jason// this you must privde the isonland file in you document //\n",
    "with open(\"../documents/isolangs.json\") as json_file:\n",
    "    json_data = json.load(json_file)\n",
    "\n",
    " # a simple fuction to serach for article   \n",
    "def article_search(article,langdata,artlang):\n",
    "\tfor key in langdata:\n",
    "\t\tif  artlang == langdata[key][\"name\"]:\n",
    "\t\t\tlang_code = key\n",
    "\tsearch_url = f'https://{lang_code}.wikipedia.org/api/rest_v1/page/summary/{article}'\t\t\n",
    "\treq_rturn = requests.get(search_url)\n",
    "\tif req_rturn.status_code != 200:\n",
    "\t\t\tprint(\"oops you have a back network thing here\")\n",
    "\t\t\texit()\n",
    "\tsearch_data = json.loads(req_rturn.text)\n",
    "\tnl = \"\\n\"\n",
    "\t#global and local scope was a hug problem here\n",
    "\tarticle_cordinates = \"no\"\n",
    "\tarticle_thumbnail = \"no\"\n",
    "\tmessage_rr = \"sorry not data\"\n",
    "\tfor key in search_data:\n",
    "\t\tarticle_tittle = search_data[\"title\"]\n",
    "\t\tarticle_description = search_data[\"description\"]\n",
    "\t\tarticle_extract = search_data[\"extract\"]\n",
    "\t\tif key == \"thumbnail\":\n",
    "\t\t\tarticle_thumbnail = search_data[\"thumbnail\"]\n",
    "\t\t\tdisplay(HTML(f'<img src={article_thumbnail[\"source\"]} alt= height = {article_thumbnail[\"height\"]} width = {article_thumbnail[\"width\"]}>'))                 \n",
    "\t\tif  key == \"coordinates\":\n",
    "\t\t\tarticle_cordinates = search_data[\"coordinates\"]\n",
    "\t\t\tdisplay(HTML(f'<a href=\"http://www.google.com/maps/place/{article_cordinates[\"lat\"]},{article_cordinates[\"lon\"]}\">click here to see map</a>'))\n",
    "\tif article_thumbnail == \"no\":\n",
    "\t\t\tdisplay(HTML(f'<p> sorry article has no thumbnails<p><br>'))\n",
    "\tif article_cordinates == \"no\":\n",
    "\t\t\tdisplay(HTML(f'<p> sorry article has no maps<p><br>'))\n",
    "\tdisplay(HTML(f'<h1>Tittle: {article_tittle}</h1><br>'))\n",
    "\tdisplay(HTML(f'<p>Extract: {article_description}<p><br>'))\n",
    "\tdisplay(HTML(f'<p>{article_extract}<p>'))            \n",
    "\n",
    "                         \n",
    "# a simple function to serach for related articles                          \n",
    "def related_search(related_list,langdata,rtllang):\n",
    "\tfor key in langdata:\n",
    "\t\tif  rtllang == langdata[key][\"name\"]:\n",
    "\t\t\trlt_lang_code =  key\n",
    "\n",
    "\trelated_srch = f'https://{rlt_lang_code}.wikipedia.org/api/rest_v1/page/related/{related_list}'\t\t\n",
    "\treq_related = requests.get(related_srch)\n",
    "\n",
    "\tif req_related.status_code != 200:\n",
    "\t\t\tprint(\"oops you have a back network thing here\")\n",
    "\t\t\texit()\n",
    "\trlt_search_data = json.loads(req_related.text)\n",
    "\tnl = \"\\n\"\n",
    "\trlt_short = rlt_search_data[\"pages\"][0:3]\n",
    "\n",
    "\tfor rtl_details in rlt_short:\n",
    "\t\tfor items in rtl_details:\n",
    "\t\t\trtl_tittle = rtl_details[\"title\"]\n",
    "\t\t\trtl_description = rtl_details[\"description\"]\n",
    "\t\t\trtl_des_url = rtl_details[\"content_urls\"][\"desktop\"][\"page\"]\n",
    "\t\tdisplay(HTML(f'<p>Tittle: {rtl_tittle}<p>'))\n",
    "\t\tdisplay(HTML(f'<p>Description: {rtl_description}<p>'))\n",
    "\t\tdisplay(HTML(f'<a href=\"{rtl_des_url}\">click here to read more ..</a>'))\n",
    "                         \n",
    "\n",
    "#output to user and the functions call for article serach and related search                         \n",
    "print(f\"------------------------- HERE IS THE RESUT OF YOUR WIKI SEARCH ON {user_search}--------------------------------\")\n",
    "article_search(user_search,json_data,user_lang)\n",
    "print(f\"------------------------- HERE IS THE RELATED RESULT OF YOUR WIKI SEARCH ON{user_search} -----------------------\")               \n",
    "related_search(user_search,json_data,user_lang)\n"
   ]
  },
  {
   "cell_type": "code",
   "execution_count": null,
   "metadata": {},
   "outputs": [],
   "source": []
  },
  {
   "cell_type": "code",
   "execution_count": null,
   "metadata": {},
   "outputs": [],
   "source": []
  }
 ],
 "metadata": {
  "kernelspec": {
   "display_name": "Python 3",
   "language": "python",
   "name": "python3"
  },
  "language_info": {
   "codemirror_mode": {
    "name": "ipython",
    "version": 3
   },
   "file_extension": ".py",
   "mimetype": "text/x-python",
   "name": "python",
   "nbconvert_exporter": "python",
   "pygments_lexer": "ipython3",
   "version": "3.7.0"
  }
 },
 "nbformat": 4,
 "nbformat_minor": 2
}
