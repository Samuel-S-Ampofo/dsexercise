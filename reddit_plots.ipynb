{
 "cells": [
  {
   "cell_type": "code",
   "execution_count": null,
   "metadata": {},
   "outputs": [],
   "source": [
    "\n",
    "\n",
    "\n",
    "#Exercise: Reddit Plots\n",
    "\n",
    "#Create a Jupyter Notebook that reads your Reddit JSON data and display plots about the data\n",
    "\n",
    "#Import the pandas library and use the read_json method to read your JSON data. Show the first five items to confirm.\n",
    "#A) Show a histogram with the scores, separated in 10 bins.\n",
    "#B) Show a horizontal bar chart with the five highest scores.\n",
    "#Extended exercises\n",
    "\n",
    "#C) Show a pie chart that shows the relation between the sum of all scores and the submission with the highest score.\n",
    "#D) Show a horizontal bar chart like B) but also with the comment count of those submissions.\n",
    "#Superextended exercises\n",
    "\n",
    "#For B) and D) include shortened titles for the y-ax\n",
    "#Add more plots for interesting data points"
   ]
  }
 ],
 "metadata": {
  "kernelspec": {
   "display_name": "Python 3",
   "language": "python",
   "name": "python3"
  },
  "language_info": {
   "codemirror_mode": {
    "name": "ipython",
    "version": 3
   },
   "file_extension": ".py",
   "mimetype": "text/x-python",
   "name": "python",
   "nbconvert_exporter": "python",
   "pygments_lexer": "ipython3",
   "version": "3.7.0"
  }
 },
 "nbformat": 4,
 "nbformat_minor": 2
}
